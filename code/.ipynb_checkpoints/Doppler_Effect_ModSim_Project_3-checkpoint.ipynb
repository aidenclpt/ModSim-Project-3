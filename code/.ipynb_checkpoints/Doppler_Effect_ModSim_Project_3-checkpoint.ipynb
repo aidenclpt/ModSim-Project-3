{
 "cells": [
  {
   "cell_type": "code",
   "execution_count": 1,
   "metadata": {
    "collapsed": true
   },
   "outputs": [],
   "source": [
    "\n",
    "%matplotlib notebook\n",
    "\n",
    "from modsim import *"
   ]
  },
  {
   "cell_type": "code",
   "execution_count": 2,
   "metadata": {
    "collapsed": true
   },
   "outputs": [],
   "source": [
    "m = UNITS.meter\n",
    "s = UNITS.second\n",
    "kg = UNITS.kilogram\n",
    "N = UNITS.newton\n",
    "degree = UNITS.degree\n",
    "radian = UNITS.radian"
   ]
  },
  {
   "cell_type": "code",
   "execution_count": 5,
   "metadata": {
    "collapsed": true
   },
   "outputs": [],
   "source": [
    "condition_radio = Condition(height = 100 *m,\n",
    "                           g = 9.8 * m/s**2,\n",
    "                           mass = 1.85 *kg,\n",
    "                           area = 0.038 * m**2,\n",
    "                           rho = 1.2 * kg/m**3,\n",
    "                           v_term = 45 * m/s,\n",
    "                           duration = 60 *s,\n",
    "                           length = 50 *m,\n",
    "                           angle = (270 - 45) * degree,\n",
    "                           k = 8 * N/m,)"
   ]
  },
  {
   "cell_type": "code",
   "execution_count": 6,
   "metadata": {
    "collapsed": true
   },
   "outputs": [],
   "source": [
    "condition_observer = Condition(x = 150 *m,\n",
    "                              y =  0, b=0, c=0, d=0, v_init= 5 )"
   ]
  },
  {
   "cell_type": "code",
   "execution_count": null,
   "metadata": {
    "collapsed": true
   },
   "outputs": [],
   "source": [
    "def make_system_radio(condition):\n",
    "    unpack(condition)\n",
    "    \n",
    "    H = Vector(0, height)\n",
    "    \n",
    "    theta = angle.to(radian)\n",
    "    x, y = pol2cart(theta, length)\n",
    "    L = Vector(x, y)\n",
    "    \n",
    "    S = H + L\n",
    "    \n",
    "    V = Vector(0*m/s, 0*m/s)\n",
    "    \n",
    "    init = State(x=S.x, y=S.y, vx=V.x, vy=V.y)\n",
    "    \n",
    "    C_d = 2 * mass * g /  (rho * area * v_term**2)\n",
    "    \n",
    "    ts = linspace(0, duration, 501)\n",
    "    \n",
    "    return System (init=init, g=g, mass=mass, rho=rho, C_d=C_d, area=area, length=length, H=H, k=k, ts=ts)"
   ]
  },
  {
   "cell_type": "code",
   "execution_count": null,
   "metadata": {
    "collapsed": true
   },
   "outputs": [],
   "source": [
    "def make_system_observer(condition):\n",
    "    unpack(condition)\n",
    "    \n",
    "    R = Vector(x, y)\n",
    "    \n",
    "    V = Vector(v_init, 0) * m/s\n",
    "    \n",
    "    init = State(x=R.x, y=R.y, vx=V.x, vy=V.y)\n",
    "    \n",
    "    "
   ]
  }
 ],
 "metadata": {
  "kernelspec": {
   "display_name": "Python 3",
   "language": "python",
   "name": "python3"
  },
  "language_info": {
   "codemirror_mode": {
    "name": "ipython",
    "version": 3
   },
   "file_extension": ".py",
   "mimetype": "text/x-python",
   "name": "python",
   "nbconvert_exporter": "python",
   "pygments_lexer": "ipython3",
   "version": "3.6.1"
  }
 },
 "nbformat": 4,
 "nbformat_minor": 2
}
